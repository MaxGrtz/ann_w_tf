{
 "cells": [
  {
   "cell_type": "code",
   "execution_count": 1,
   "metadata": {},
   "outputs": [],
   "source": [
    "from lib import Data\n",
    "from lib import dataset_prep_functions as data_prep\n",
    "import pandas as pd\n",
    "import numpy as np\n",
    "import tensorflow as tf\n",
    "import matplotlib.pyplot as plt"
   ]
  },
  {
   "cell_type": "markdown",
   "metadata": {},
   "source": [
    "## 1. Reading Data of Stock"
   ]
  },
  {
   "cell_type": "code",
   "execution_count": 2,
   "metadata": {
    "scrolled": true
   },
   "outputs": [
    {
     "name": "stdout",
     "output_type": "stream",
     "text": [
      "read all data from web\n"
     ]
    }
   ],
   "source": [
    "# read data by stock ticker and date defining the range of data you want to access\n",
    "data = Data.Data('AAL', '2013-07-01')  "
   ]
  },
  {
   "cell_type": "code",
   "execution_count": 3,
   "metadata": {
    "scrolled": true
   },
   "outputs": [
    {
     "data": {
      "text/html": [
       "<div>\n",
       "<style scoped>\n",
       "    .dataframe tbody tr th:only-of-type {\n",
       "        vertical-align: middle;\n",
       "    }\n",
       "\n",
       "    .dataframe tbody tr th {\n",
       "        vertical-align: top;\n",
       "    }\n",
       "\n",
       "    .dataframe thead th {\n",
       "        text-align: right;\n",
       "    }\n",
       "</style>\n",
       "<table border=\"1\" class=\"dataframe\">\n",
       "  <thead>\n",
       "    <tr style=\"text-align: right;\">\n",
       "      <th></th>\n",
       "      <th>price</th>\n",
       "      <th>volume</th>\n",
       "      <th>s&amp;p500</th>\n",
       "      <th>ebit</th>\n",
       "      <th>total current assets</th>\n",
       "      <th>total current liabilities</th>\n",
       "      <th>net cash from total operating activities</th>\n",
       "      <th>gdp [USA]</th>\n",
       "      <th>unemployment [USA]</th>\n",
       "    </tr>\n",
       "  </thead>\n",
       "  <tbody>\n",
       "    <tr>\n",
       "      <th>2013-07-01</th>\n",
       "      <td>16.05</td>\n",
       "      <td>12511796.0</td>\n",
       "      <td>1614.96</td>\n",
       "      <td>1192.55</td>\n",
       "      <td>10523.50</td>\n",
       "      <td>15125.84</td>\n",
       "      <td>439.56</td>\n",
       "      <td>16848.75</td>\n",
       "      <td>11335.00</td>\n",
       "    </tr>\n",
       "    <tr>\n",
       "      <th>2013-07-02</th>\n",
       "      <td>15.69</td>\n",
       "      <td>10748794.0</td>\n",
       "      <td>1614.08</td>\n",
       "      <td>1190.67</td>\n",
       "      <td>10548.33</td>\n",
       "      <td>15117.22</td>\n",
       "      <td>442.92</td>\n",
       "      <td>16851.30</td>\n",
       "      <td>11333.19</td>\n",
       "    </tr>\n",
       "    <tr>\n",
       "      <th>2013-07-03</th>\n",
       "      <td>16.00</td>\n",
       "      <td>7039678.0</td>\n",
       "      <td>1615.41</td>\n",
       "      <td>1188.79</td>\n",
       "      <td>10573.17</td>\n",
       "      <td>15108.59</td>\n",
       "      <td>446.28</td>\n",
       "      <td>16853.84</td>\n",
       "      <td>11331.39</td>\n",
       "    </tr>\n",
       "  </tbody>\n",
       "</table>\n",
       "</div>"
      ],
      "text/plain": [
       "            price      volume   s&p500     ebit  total current assets  \\\n",
       "2013-07-01  16.05  12511796.0  1614.96  1192.55              10523.50   \n",
       "2013-07-02  15.69  10748794.0  1614.08  1190.67              10548.33   \n",
       "2013-07-03  16.00   7039678.0  1615.41  1188.79              10573.17   \n",
       "\n",
       "            total current liabilities  \\\n",
       "2013-07-01                   15125.84   \n",
       "2013-07-02                   15117.22   \n",
       "2013-07-03                   15108.59   \n",
       "\n",
       "            net cash from total operating activities  gdp [USA]  \\\n",
       "2013-07-01                                    439.56   16848.75   \n",
       "2013-07-02                                    442.92   16851.30   \n",
       "2013-07-03                                    446.28   16853.84   \n",
       "\n",
       "            unemployment [USA]  \n",
       "2013-07-01            11335.00  \n",
       "2013-07-02            11333.19  \n",
       "2013-07-03            11331.39  "
      ]
     },
     "execution_count": 3,
     "metadata": {},
     "output_type": "execute_result"
    }
   ],
   "source": [
    "data.data_frame.head(3)"
   ]
  },
  {
   "cell_type": "code",
   "execution_count": 4,
   "metadata": {
    "scrolled": false
   },
   "outputs": [
    {
     "data": {
      "text/plain": [
       "[<matplotlib.lines.Line2D at 0x12a9628d0>]"
      ]
     },
     "execution_count": 4,
     "metadata": {},
     "output_type": "execute_result"
    },
    {
     "data": {
      "image/png": "[encoded data removed]",
      "text/plain": [
       "<Figure size 432x288 with 1 Axes>"
      ]
     },
     "metadata": {
      "needs_background": "light"
     },
     "output_type": "display_data"
    }
   ],
   "source": [
    "plt.plot(data.data_frame['price'])"
   ]
  },
  {
   "cell_type": "markdown",
   "metadata": {},
   "source": [
    "## 2. Training and Model Configurations"
   ]
  },
  {
   "cell_type": "code",
   "execution_count": null,
   "metadata": {},
   "outputs": [],
   "source": [
    "# configs\n",
    "SUBSEQ_LEN = 100  # length of sequences fed into rnn\n",
    "HORIZON = 50  # number of days to predict into future\n",
    "VALID_RATIO = 0.1  # percent of validation data\n",
    "BATCH_SIZE = 15\n",
    "LSTM_SIZES = [128, 128]  # size of lstm states per layer\n",
    "EPOCHS = 150\n",
    "LEARNING_RATE = 3e-5"
   ]
  },
  {
   "cell_type": "markdown",
   "metadata": {},
   "source": [
    "## 3. Prepairing Data"
   ]
  },
  {
   "cell_type": "code",
   "execution_count": null,
   "metadata": {},
   "outputs": [
    {
     "data": {
      "text/plain": [
       "((20, 100, 9), (20, 100, 9))"
      ]
     },
     "execution_count": 6,
     "metadata": {},
     "output_type": "execute_result"
    }
   ],
   "source": [
    "# get non overlapping data sequences for later prediction test \n",
    "test_data_sequences = data_prep.get_subsequences(data.data_frame.values, SUBSEQ_LEN, False)\n",
    "fake_labels = np.zeros(test_data_sequences.shape, dtype=np.float32)\n",
    "test_data_sequences.shape, fake_labels.shape"
   ]
  },
  {
   "cell_type": "code",
   "execution_count": null,
   "metadata": {},
   "outputs": [
    {
     "data": {
      "text/plain": [
       "((2054, 9), (2054, 9))"
      ]
     },
     "execution_count": 7,
     "metadata": {},
     "output_type": "execute_result"
    }
   ],
   "source": [
    "# split data into features x and labels y\n",
    "x, y = data_prep.create_labels(data.data_frame)\n",
    "x.shape, y.shape"
   ]
  },
  {
   "cell_type": "code",
   "execution_count": null,
   "metadata": {},
   "outputs": [
    {
     "data": {
      "text/plain": [
       "((1954, 100, 9), (1954, 100, 9))"
      ]
     },
     "execution_count": 8,
     "metadata": {},
     "output_type": "execute_result"
    }
   ],
   "source": [
    "# get overlapping subsequences of length SUBSEQ_LEN for features and labels\n",
    "x_seq, y_seq = data_prep.get_subsequences(x, SUBSEQ_LEN), data_prep.get_subsequences(y,SUBSEQ_LEN)\n",
    "x_seq.shape, y_seq.shape"
   ]
  },
  {
   "cell_type": "code",
   "execution_count": null,
   "metadata": {
    "scrolled": true
   },
   "outputs": [
    {
     "data": {
      "text/plain": [
       "(((1759, 100, 9), (1759, 100, 9)), ((195, 100, 9), (195, 100, 9)))"
      ]
     },
     "execution_count": 9,
     "metadata": {},
     "output_type": "execute_result"
    }
   ],
   "source": [
    "# split data into training and validation data based on chosen validation_ratio \n",
    "c = np.concatenate((x_seq,y_seq), axis=2)\n",
    "train, valid = data_prep.split(c, VALID_RATIO)\n",
    "\n",
    "x_train, x_valid = train[:,:,:-x_seq.shape[-1]], valid[:,:,:-x_seq.shape[-1]]\n",
    "y_train, y_valid = train[:,:,-x_seq.shape[-1]:], valid[:,:,-x_seq.shape[-1]:]\n",
    "\n",
    "(x_train.shape, y_train.shape), (x_valid.shape, y_valid.shape)"
   ]
  },
  {
   "cell_type": "code",
   "execution_count": null,
   "metadata": {},
   "outputs": [
    {
     "data": {
      "text/plain": [
       "(((1759, 100, 9), (1759, 100, 9)), ((195, 100, 9), (195, 100, 9)))"
      ]
     },
     "execution_count": 10,
     "metadata": {},
     "output_type": "execute_result"
    }
   ],
   "source": [
    "# normalize training and validation sequences (each sequence individually)\n",
    "x_train, y_train, _ = data_prep.normalize(x_train, y_train)\n",
    "x_valid, y_valid, _ = data_prep.normalize(x_valid, y_valid)\n",
    "\n",
    "(x_train.shape, y_train.shape), (x_valid.shape, y_valid.shape)"
   ]
  },
  {
   "cell_type": "markdown",
   "metadata": {},
   "source": [
    "## 4. Computation Graph Definition"
   ]
  },
  {
   "cell_type": "code",
   "execution_count": null,
   "metadata": {},
   "outputs": [],
   "source": [
    "tf.reset_default_graph()\n",
    "# lstm input and output sizes\n",
    "input_size = x.shape[-1]\n",
    "output_size = y.shape[-1]"
   ]
  },
  {
   "cell_type": "code",
   "execution_count": null,
   "metadata": {},
   "outputs": [],
   "source": [
    "# batch placeholder\n",
    "with tf.variable_scope(\"input\", reuse=tf.AUTO_REUSE) as scope:    \n",
    "    batchX = tf.placeholder(tf.float32, [BATCH_SIZE, SUBSEQ_LEN, input_size], name='batchX')\n",
    "    batchY = tf.placeholder(tf.float32, [BATCH_SIZE, SUBSEQ_LEN, output_size], name='batchY')"
   ]
  },
  {
   "cell_type": "code",
   "execution_count": null,
   "metadata": {},
   "outputs": [],
   "source": [
    "with tf.variable_scope(\"LSTM\", reuse=tf.AUTO_REUSE) as scope:\n",
    "    \n",
    "    # state placeholder \n",
    "    c_in = [tf.placeholder(tf.float32, [BATCH_SIZE, s], name='c_{}'.format(c)) for c,s in enumerate(LSTM_SIZES)]\n",
    "    h_in = [tf.placeholder(tf.float32, [BATCH_SIZE, s], name='h_{}'.format(c)) for c,s in enumerate(LSTM_SIZES)]\n",
    "    \n",
    "    # boolean flag to handle training differently from validation and testing\n",
    "    training_flag = tf.placeholder(tf.bool)\n",
    "    \n",
    "    # create LSTMCells\n",
    "    lstm_layers = [tf.nn.rnn_cell.LSTMCell(size, activation='tanh', forget_bias=1.0) for size in LSTM_SIZES]\n",
    "    \n",
    "    # add dropout wrapper keep_prob=0.95 for training, else no dropout keep_prob=1.0\n",
    "    keep_prob = tf.cond(training_flag, lambda: tf.constant(0.95), lambda: tf.constant(1.0))\n",
    "    lstm_layers = [tf.nn.rnn_cell.DropoutWrapper(cell, input_keep_prob=keep_prob, state_keep_prob=keep_prob, output_keep_prob=keep_prob) for cell in lstm_layers]\n",
    "    \n",
    "    # create a RNN cell composed sequentially of the created lstm cells\n",
    "    multi_rnn_cell = tf.nn.rnn_cell.MultiRNNCell(lstm_layers)\n",
    "    \n",
    "    # create rnn state input from placeholder\n",
    "    state = tuple(tf.nn.rnn_cell.LSTMStateTuple(c, h) for c, h in zip(c_in, h_in))\n",
    "    \n",
    "    # dynamic rnn, calculate output and final state over all lstm layers\n",
    "    outputs, final_state = tf.nn.dynamic_rnn(cell=multi_rnn_cell,\n",
    "                                       inputs=batchX,\n",
    "                                       initial_state=state,\n",
    "                                       dtype=tf.float32)\n",
    "    \n",
    "    rnn_output = tf.transpose(outputs, [1,0,2]) "
   ]
  },
  {
   "cell_type": "code",
   "execution_count": null,
   "metadata": {},
   "outputs": [],
   "source": [
    "with tf.variable_scope(\"ReadOut\", reuse=tf.AUTO_REUSE) as scope:\n",
    "\n",
    "    # Initialize all weights and biases.\n",
    "    initializer = tf.random_normal_initializer(stddev=0.125)\n",
    "\n",
    "    # define lstm readout weights and biases + dense layer weights and biases\n",
    "    W_readout = tf.get_variable(\"W_readout\", [LSTM_SIZES[-1], output_size], initializer=initializer)\n",
    "    b_readout = tf.get_variable(\"b_readout\", [output_size], initializer=initializer)\n",
    "\n",
    "    # logits calculation\n",
    "    logits = tf.map_fn(lambda x: tf.matmul(x, W_readout) + b_readout, rnn_output)\n",
    "    logits = tf.transpose(logits, [1,0,2])"
   ]
  },
  {
   "cell_type": "markdown",
   "metadata": {},
   "source": [
    "## 5. Definition of Metrics and Training Config"
   ]
  },
  {
   "cell_type": "code",
   "execution_count": null,
   "metadata": {},
   "outputs": [],
   "source": [
    "# define loss as mean squared error\n",
    "with tf.variable_scope(\"metrics\", reuse=tf.AUTO_REUSE) as scope:    \n",
    "    loss = tf.losses.mean_squared_error(predictions=logits, labels=batchY)\n",
    "\n",
    "# define optimizer \n",
    "with tf.variable_scope(\"optimizer\", reuse=tf.AUTO_REUSE) as scope:\n",
    "    optimizer = tf.train.AdamOptimizer(learning_rate=LEARNING_RATE)\n",
    "    training_step = optimizer.minimize(loss)"
   ]
  },
  {
   "cell_type": "code",
   "execution_count": null,
   "metadata": {},
   "outputs": [],
   "source": [
    "# tensorboard summary definition\n",
    "with tf.variable_scope(\"summary\", reuse=tf.AUTO_REUSE) as scope:    \n",
    "    tf.summary.scalar('loss', loss)\n",
    "    merged_summaries = tf.summary.merge_all()\n",
    "    train_writer = tf.summary.FileWriter(\"./summaries/train\", tf.get_default_graph())\n",
    "    validation_writer = tf.summary.FileWriter(\"./summaries/validation\", tf.get_default_graph())"
   ]
  },
  {
   "cell_type": "markdown",
   "metadata": {},
   "source": [
    "## 6. Training, Validation, Prediction"
   ]
  },
  {
   "cell_type": "code",
   "execution_count": null,
   "metadata": {
    "scrolled": false
   },
   "outputs": [],
   "source": [
    "with tf.Session() as sess:\n",
    "    \n",
    "    ##########################################-----TRAINING-PREP-----##########################################\n",
    "\n",
    "    sess.run(tf.global_variables_initializer())\n",
    "    \n",
    "    step = 0\n",
    "    \n",
    "    # helper for state initialization\n",
    "    c_init = tuple(np.zeros([BATCH_SIZE, size]) for size in LSTM_SIZES)\n",
    "    h_init = tuple(np.zeros([BATCH_SIZE, size]) for size in LSTM_SIZES)\n",
    "    \n",
    "    # get list of all placeholders\n",
    "    placeholders = [op.name + ':0' for op in tf.get_default_graph().get_operations() if op.type == \"Placeholder\"]\n",
    "\n",
    "    # prep validation data, splitting into batches but define size 1 instead of batchsize\n",
    "    valid_batchesX = data_prep.get_subsequences(x_valid, 1, False) \n",
    "    valid_batchesY = data_prep.get_subsequences(y_valid, 1, False)\n",
    "    \n",
    "    # prep test data, splitting into batches but define size 1 instead of batchsize\n",
    "    test_batchesX = data_prep.get_subsequences(test_data_sequences, 1, False) \n",
    "    test_batchesY = data_prep.get_subsequences(fake_labels, 1, False)\n",
    "    \n",
    "    \n",
    "    ##########################################-----TRAINING-----##########################################\n",
    "    \n",
    "    for epoch in range(EPOCHS):\n",
    "        \n",
    "        # initialize rnn state new each epoch        \n",
    "        current_state = tuple(tf.nn.rnn_cell.LSTMStateTuple(c, h) for c, h in zip(c_init, h_init))\n",
    "        \n",
    "        # shuffle training data before every epoch\n",
    "        training_data = np.concatenate((x_train, y_train), axis=2)\n",
    "        np.random.shuffle(training_data)\n",
    "        \n",
    "        # split data into batches\n",
    "        train_batchesX = data_prep.get_subsequences(training_data[:,:,:-x_train.shape[-1]], BATCH_SIZE, False)\n",
    "        train_batchesY = data_prep.get_subsequences(training_data[:,:,-x_train.shape[-1]:], BATCH_SIZE, False)\n",
    "        \n",
    "        \n",
    "        ##########################################-----TRAINING-STEPS-----##########################################\n",
    "        \n",
    "        # go through the training data until it's empty\n",
    "        for new_batchX, new_batchY in zip(train_batchesX, train_batchesY):\n",
    "            \n",
    "            # feed value = batchX, batchY, cell state of every layer, hidden state of every layer, and training flag\n",
    "            feed_values = [new_batchX, new_batchY] + \\\n",
    "                            [layer[0] for layer in current_state] + \\\n",
    "                            [layer[1] for layer in current_state] + \\\n",
    "                            [True]\n",
    "\n",
    "            # create feed dictionary from placeholder and feed_values\n",
    "            feed_dict = {key: val for key, val in zip(placeholders, feed_values)}\n",
    "            \n",
    "            # make a training step, get new rnn state and loss\n",
    "            current_state, summaries, _ = \\\n",
    "                            sess.run([final_state, merged_summaries, training_step], \n",
    "                                    feed_dict=feed_dict)\n",
    "\n",
    "            # write loss to tensorboard\n",
    "            train_writer.add_summary(summaries, global_step = step)\n",
    "\n",
    "            step += 1\n",
    "            \n",
    "            \n",
    "        ##########################################-----VALIDATION-----##########################################\n",
    "\n",
    "        # start validation from zero initial state\n",
    "        current_state = tuple(tf.nn.rnn_cell.LSTMStateTuple(c, h) for c, h in zip(c_init, h_init))\n",
    "        \n",
    "        # go through validation data after training one epoch\n",
    "        for new_batchX, new_batchY in zip(valid_batchesX, valid_batchesY):\n",
    "            \n",
    "            # repeating the current sequence, such that it has the correct shape for the placeholder\n",
    "            new_batchX = np.tile(new_batchX, (BATCH_SIZE,1,1))\n",
    "            new_batchY = np.tile(new_batchY, (BATCH_SIZE,1,1))\n",
    "            \n",
    "            # feed value = batchX, batchY, cell state of every layer, hidden state of every layer, and training flag\n",
    "            feed_values = [new_batchX, new_batchY] + \\\n",
    "                            [layer[0] for layer in current_state] + \\\n",
    "                            [layer[1] for layer in current_state] + \\\n",
    "                            [False]\n",
    "\n",
    "            # create feed dictionary from placeholder and feed_values\n",
    "            feed_dict = {key: val for key, val in zip(placeholders, feed_values)}\n",
    "            \n",
    "            # get new rrn state and loss without doing a weight update ie. training step\n",
    "            current_state, summaries = \\\n",
    "                            sess.run([final_state, merged_summaries], \n",
    "                                    feed_dict=feed_dict)\n",
    "\n",
    "            # write loss to tensorboard\n",
    "            validation_writer.add_summary(summaries, global_step = step)\n",
    "\n",
    "            step += 1\n",
    "            \n",
    "    ##########################################-----PREDICTION-----##########################################\n",
    "\n",
    "    # after finishing all epochs start testing via propagation of predictions\n",
    "    predictions = []\n",
    "\n",
    "    for new_batchX, new_batchY in zip(test_batchesX, test_batchesY):\n",
    "        # start predictions from zero state \n",
    "        current_state = tuple(tf.nn.rnn_cell.LSTMStateTuple(c, h) for c, h in zip(c_init, h_init))\n",
    "        \n",
    "        # normalize the current test sequence, saving the origin for later inversion of the normalization\n",
    "        norm_batchX, norm_batchY, origin = data_prep.normalize(new_batchX, new_batchY)\n",
    "        \n",
    "        # repeating the current sequence, such that it has the correct shape for the placeholder\n",
    "        norm_batchX = np.tile(norm_batchX, (BATCH_SIZE,1,1))\n",
    "        norm_batchY = np.tile(norm_batchY, (BATCH_SIZE,1,1))\n",
    "        \n",
    "        # make predictions according to chosen prediction horizon\n",
    "        for _ in range(HORIZON):\n",
    "            \n",
    "            # feed value = batchX, batchY, cell state of every layer, hidden state of every layer, and training flag\n",
    "            feed_values = [norm_batchX, norm_batchY] + \\\n",
    "                            [layer[0] for layer in current_state] + \\\n",
    "                            [layer[1] for layer in current_state] + \\\n",
    "                            [False]\n",
    "            \n",
    "            # create feed dictionary from placeholder and feed_values\n",
    "            feed_dict = {key: val for key, val in zip(placeholders, feed_values)}\n",
    "\n",
    "            # get prediction for current sequence\n",
    "            output, current_state = sess.run([logits, final_state], feed_dict=feed_dict)\n",
    "            \n",
    "            # get shifted sequence by appending the predicting value and dropping the first value\n",
    "            # again repeating the sequence to make it match the placeholder\n",
    "            norm_batchX = np.tile(np.append(norm_batchX[0, 1:], [output[0,-1]], axis=0), (BATCH_SIZE,1,1))\n",
    "        \n",
    "        # append the predictions, inverting the normalization\n",
    "        predictions.append(data_prep.invert_normalization(norm_batchX[0], origin)[-HORIZON:, 0])"
   ]
  },
  {
   "cell_type": "markdown",
   "metadata": {},
   "source": [
    "## 7. Visualization of Predictions"
   ]
  },
  {
   "cell_type": "code",
   "execution_count": null,
   "metadata": {},
   "outputs": [],
   "source": [
    "# determine dates of the predictions, in corresponding shape\n",
    "dates = data_prep.get_subsequences(data.data_frame.index, n=SUBSEQ_LEN, overlapping=False, data_type=np.datetime64)[:,-1]\n",
    "pred_dates = [pd.date_range(start=date, periods=HORIZON+1, closed='right') for date in dates]\n",
    "\n",
    "# create timeseries with predictions as values and dates as index\n",
    "pred_series = [pd.Series(prices, index=pred_date) for prices,pred_date in zip(predictions, pred_dates)]"
   ]
  },
  {
   "cell_type": "code",
   "execution_count": null,
   "metadata": {},
   "outputs": [],
   "source": [
    "# visualize predictions\n",
    "fig, ax = plt.subplots(1,1, figsize=(20,10))\n",
    "\n",
    "ax.plot(data.data_frame['price'])\n",
    "for c, series in enumerate(pred_series):\n",
    "    ax.plot(series, color='r')\n",
    "    \n",
    "plt.show()"
   ]
  },
  {
   "cell_type": "code",
   "execution_count": null,
   "metadata": {},
   "outputs": [],
   "source": []
  }
 ],
 "metadata": {
  "kernelspec": {
   "display_name": "Python 3.6 (tfcourse)",
   "language": "python",
   "name": "tfcourse"
  },
  "language_info": {
   "codemirror_mode": {
    "name": "ipython",
    "version": 3
   },
   "file_extension": ".py",
   "mimetype": "text/x-python",
   "name": "python",
   "nbconvert_exporter": "python",
   "pygments_lexer": "ipython3",
   "version": "3.6.7"
  }
 },
 "nbformat": 4,
 "nbformat_minor": 2
}
