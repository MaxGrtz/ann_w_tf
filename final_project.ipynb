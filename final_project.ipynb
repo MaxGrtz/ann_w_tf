{
 "cells": [
  {
   "cell_type": "code",
   "execution_count": 1,
   "metadata": {},
   "outputs": [],
   "source": [
    "from Data import Data\n",
    "import dataset_prep_functions as data_prep\n",
    "import pandas as pd\n",
    "import numpy as np\n",
    "import scipy\n",
    "from sklearn.preprocessing import MinMaxScaler\n",
    "import tensorflow as tf\n",
    "import matplotlib.pyplot as plt"
   ]
  },
  {
   "cell_type": "markdown",
   "metadata": {},
   "source": [
    "## 1. Reading Data of Stock"
   ]
  },
  {
   "cell_type": "code",
   "execution_count": 2,
   "metadata": {
    "scrolled": true
   },
   "outputs": [
    {
     "name": "stdout",
     "output_type": "stream",
     "text": [
      "read unprocessed data\n"
     ]
    }
   ],
   "source": [
    "data = Data('MSFT', '2009-01-01')"
   ]
  },
  {
   "cell_type": "code",
   "execution_count": 3,
   "metadata": {
    "scrolled": false
   },
   "outputs": [
    {
     "data": {
      "text/html": [
       "<div>\n",
       "<style scoped>\n",
       "    .dataframe tbody tr th:only-of-type {\n",
       "        vertical-align: middle;\n",
       "    }\n",
       "\n",
       "    .dataframe tbody tr th {\n",
       "        vertical-align: top;\n",
       "    }\n",
       "\n",
       "    .dataframe thead th {\n",
       "        text-align: right;\n",
       "    }\n",
       "</style>\n",
       "<table border=\"1\" class=\"dataframe\">\n",
       "  <thead>\n",
       "    <tr style=\"text-align: right;\">\n",
       "      <th></th>\n",
       "      <th>price</th>\n",
       "      <th>volume</th>\n",
       "      <th>s&amp;p500</th>\n",
       "      <th>ebit</th>\n",
       "      <th>total current assets</th>\n",
       "      <th>total current liabilities</th>\n",
       "      <th>net cash from total operating activities</th>\n",
       "      <th>gdp [USA]</th>\n",
       "      <th>interest_rates [USA]</th>\n",
       "      <th>unemployment [USA]</th>\n",
       "      <th>inflation [USA]</th>\n",
       "    </tr>\n",
       "  </thead>\n",
       "  <tbody>\n",
       "    <tr>\n",
       "      <th>2009-01-02</th>\n",
       "      <td>15.87</td>\n",
       "      <td>50084000.00</td>\n",
       "      <td>931.80</td>\n",
       "      <td>5187.09</td>\n",
       "      <td>38580.15</td>\n",
       "      <td>23742.09</td>\n",
       "      <td>10868.20</td>\n",
       "      <td>14394.08</td>\n",
       "      <td>0.25</td>\n",
       "      <td>12085.10</td>\n",
       "      <td>-0.35</td>\n",
       "    </tr>\n",
       "    <tr>\n",
       "      <th>2009-01-03</th>\n",
       "      <td>15.92</td>\n",
       "      <td>53881066.67</td>\n",
       "      <td>930.35</td>\n",
       "      <td>5167.48</td>\n",
       "      <td>38617.11</td>\n",
       "      <td>23743.48</td>\n",
       "      <td>10942.81</td>\n",
       "      <td>14393.62</td>\n",
       "      <td>0.25</td>\n",
       "      <td>12112.19</td>\n",
       "      <td>-0.34</td>\n",
       "    </tr>\n",
       "    <tr>\n",
       "      <th>2009-01-04</th>\n",
       "      <td>15.96</td>\n",
       "      <td>57678133.33</td>\n",
       "      <td>928.90</td>\n",
       "      <td>5147.88</td>\n",
       "      <td>38654.07</td>\n",
       "      <td>23744.88</td>\n",
       "      <td>11017.43</td>\n",
       "      <td>14393.16</td>\n",
       "      <td>0.25</td>\n",
       "      <td>12139.29</td>\n",
       "      <td>-0.34</td>\n",
       "    </tr>\n",
       "  </tbody>\n",
       "</table>\n",
       "</div>"
      ],
      "text/plain": [
       "            price       volume  s&p500     ebit  total current assets  \\\n",
       "2009-01-02  15.87  50084000.00  931.80  5187.09              38580.15   \n",
       "2009-01-03  15.92  53881066.67  930.35  5167.48              38617.11   \n",
       "2009-01-04  15.96  57678133.33  928.90  5147.88              38654.07   \n",
       "\n",
       "            total current liabilities  \\\n",
       "2009-01-02                   23742.09   \n",
       "2009-01-03                   23743.48   \n",
       "2009-01-04                   23744.88   \n",
       "\n",
       "            net cash from total operating activities  gdp [USA]  \\\n",
       "2009-01-02                                  10868.20   14394.08   \n",
       "2009-01-03                                  10942.81   14393.62   \n",
       "2009-01-04                                  11017.43   14393.16   \n",
       "\n",
       "            interest_rates [USA]  unemployment [USA]  inflation [USA]  \n",
       "2009-01-02                  0.25            12085.10            -0.35  \n",
       "2009-01-03                  0.25            12112.19            -0.34  \n",
       "2009-01-04                  0.25            12139.29            -0.34  "
      ]
     },
     "execution_count": 3,
     "metadata": {},
     "output_type": "execute_result"
    }
   ],
   "source": [
    "data.data_frame.head(3)"
   ]
  },
  {
   "cell_type": "code",
   "execution_count": 4,
   "metadata": {
    "scrolled": false
   },
   "outputs": [
    {
     "data": {
      "text/plain": [
       "[<matplotlib.lines.Line2D at 0x12ed58630>]"
      ]
     },
     "execution_count": 4,
     "metadata": {},
     "output_type": "execute_result"
    },
    {
     "data": {
      "image/png": "[encoded data removed]",
      "text/plain": [
       "<Figure size 432x288 with 1 Axes>"
      ]
     },
     "metadata": {
      "needs_background": "light"
     },
     "output_type": "display_data"
    }
   ],
   "source": [
    "plt.plot(data.data_frame['price'])"
   ]
  },
  {
   "cell_type": "markdown",
   "metadata": {},
   "source": [
    "## 2. Prepairing Data"
   ]
  },
  {
   "cell_type": "code",
   "execution_count": 5,
   "metadata": {
    "scrolled": true
   },
   "outputs": [
    {
     "data": {
      "text/html": [
       "<div>\n",
       "<style scoped>\n",
       "    .dataframe tbody tr th:only-of-type {\n",
       "        vertical-align: middle;\n",
       "    }\n",
       "\n",
       "    .dataframe tbody tr th {\n",
       "        vertical-align: top;\n",
       "    }\n",
       "\n",
       "    .dataframe thead th {\n",
       "        text-align: right;\n",
       "    }\n",
       "</style>\n",
       "<table border=\"1\" class=\"dataframe\">\n",
       "  <thead>\n",
       "    <tr style=\"text-align: right;\">\n",
       "      <th></th>\n",
       "      <th>price</th>\n",
       "      <th>volume</th>\n",
       "      <th>s&amp;p500</th>\n",
       "      <th>ebit</th>\n",
       "      <th>total current assets</th>\n",
       "      <th>total current liabilities</th>\n",
       "      <th>net cash from total operating activities</th>\n",
       "      <th>gdp [USA]</th>\n",
       "      <th>interest_rates [USA]</th>\n",
       "      <th>unemployment [USA]</th>\n",
       "      <th>inflation [USA]</th>\n",
       "    </tr>\n",
       "  </thead>\n",
       "  <tbody>\n",
       "    <tr>\n",
       "      <th>2019-01-14</th>\n",
       "      <td>0.9469</td>\n",
       "      <td>0.3570</td>\n",
       "      <td>0.9137</td>\n",
       "      <td>0.985</td>\n",
       "      <td>0.9779</td>\n",
       "      <td>0.79</td>\n",
       "      <td>0.5772</td>\n",
       "      <td>1.0</td>\n",
       "      <td>2.4</td>\n",
       "      <td>0.0533</td>\n",
       "      <td>2.13</td>\n",
       "    </tr>\n",
       "    <tr>\n",
       "      <th>2019-01-15</th>\n",
       "      <td>0.9595</td>\n",
       "      <td>0.3849</td>\n",
       "      <td>0.9210</td>\n",
       "      <td>0.985</td>\n",
       "      <td>0.9779</td>\n",
       "      <td>0.79</td>\n",
       "      <td>0.5772</td>\n",
       "      <td>1.0</td>\n",
       "      <td>2.4</td>\n",
       "      <td>0.0533</td>\n",
       "      <td>2.13</td>\n",
       "    </tr>\n",
       "    <tr>\n",
       "      <th>2019-01-16</th>\n",
       "      <td>0.9611</td>\n",
       "      <td>0.3699</td>\n",
       "      <td>0.9225</td>\n",
       "      <td>0.985</td>\n",
       "      <td>0.9779</td>\n",
       "      <td>0.79</td>\n",
       "      <td>0.5772</td>\n",
       "      <td>1.0</td>\n",
       "      <td>2.4</td>\n",
       "      <td>0.0533</td>\n",
       "      <td>2.13</td>\n",
       "    </tr>\n",
       "    <tr>\n",
       "      <th>2019-01-17</th>\n",
       "      <td>0.9642</td>\n",
       "      <td>0.3566</td>\n",
       "      <td>0.9277</td>\n",
       "      <td>0.985</td>\n",
       "      <td>0.9779</td>\n",
       "      <td>0.79</td>\n",
       "      <td>0.5772</td>\n",
       "      <td>1.0</td>\n",
       "      <td>2.4</td>\n",
       "      <td>0.0533</td>\n",
       "      <td>2.13</td>\n",
       "    </tr>\n",
       "    <tr>\n",
       "      <th>2019-01-18</th>\n",
       "      <td>0.9707</td>\n",
       "      <td>0.4291</td>\n",
       "      <td>0.9366</td>\n",
       "      <td>0.985</td>\n",
       "      <td>0.9779</td>\n",
       "      <td>0.79</td>\n",
       "      <td>0.5772</td>\n",
       "      <td>1.0</td>\n",
       "      <td>2.4</td>\n",
       "      <td>0.0533</td>\n",
       "      <td>2.13</td>\n",
       "    </tr>\n",
       "  </tbody>\n",
       "</table>\n",
       "</div>"
      ],
      "text/plain": [
       "             price  volume  s&p500   ebit  total current assets  \\\n",
       "2019-01-14  0.9469  0.3570  0.9137  0.985                0.9779   \n",
       "2019-01-15  0.9595  0.3849  0.9210  0.985                0.9779   \n",
       "2019-01-16  0.9611  0.3699  0.9225  0.985                0.9779   \n",
       "2019-01-17  0.9642  0.3566  0.9277  0.985                0.9779   \n",
       "2019-01-18  0.9707  0.4291  0.9366  0.985                0.9779   \n",
       "\n",
       "            total current liabilities  \\\n",
       "2019-01-14                       0.79   \n",
       "2019-01-15                       0.79   \n",
       "2019-01-16                       0.79   \n",
       "2019-01-17                       0.79   \n",
       "2019-01-18                       0.79   \n",
       "\n",
       "            net cash from total operating activities  gdp [USA]  \\\n",
       "2019-01-14                                    0.5772        1.0   \n",
       "2019-01-15                                    0.5772        1.0   \n",
       "2019-01-16                                    0.5772        1.0   \n",
       "2019-01-17                                    0.5772        1.0   \n",
       "2019-01-18                                    0.5772        1.0   \n",
       "\n",
       "            interest_rates [USA]  unemployment [USA]  inflation [USA]  \n",
       "2019-01-14                   2.4              0.0533             2.13  \n",
       "2019-01-15                   2.4              0.0533             2.13  \n",
       "2019-01-16                   2.4              0.0533             2.13  \n",
       "2019-01-17                   2.4              0.0533             2.13  \n",
       "2019-01-18                   2.4              0.0533             2.13  "
      ]
     },
     "execution_count": 5,
     "metadata": {},
     "output_type": "execute_result"
    }
   ],
   "source": [
    "normalized_df, price_scaler = data_prep.normalize(data.data_frame)\n",
    "normalized_df.tail(5)"
   ]
  },
  {
   "cell_type": "code",
   "execution_count": 6,
   "metadata": {},
   "outputs": [],
   "source": [
    "subseq_len = 100  # length of sequences fed into rnn\n",
    "horizon = 50  # number of days predicted into future\n",
    "validation_ratio = 0.10 # percent of validation data"
   ]
  },
  {
   "cell_type": "code",
   "execution_count": 7,
   "metadata": {},
   "outputs": [
    {
     "data": {
      "text/plain": [
       "((36, 100, 11), (36, 100, 50))"
      ]
     },
     "execution_count": 7,
     "metadata": {},
     "output_type": "execute_result"
    }
   ],
   "source": [
    "# data sequences for later prediction test \n",
    "test_data_sequences = data_prep.get_subsequences(normalized_df.values, subseq_len, False)\n",
    "fake_labels = np.zeros((test_data_sequences.shape[0], test_data_sequences.shape[1], horizon), dtype=np.float32)\n",
    "test_data_sequences.shape, fake_labels.shape"
   ]
  },
  {
   "cell_type": "code",
   "execution_count": 8,
   "metadata": {},
   "outputs": [
    {
     "data": {
      "text/plain": [
       "((3617, 11), (3617, 50))"
      ]
     },
     "execution_count": 8,
     "metadata": {},
     "output_type": "execute_result"
    }
   ],
   "source": [
    "# split data into features x and labels y\n",
    "x, y = data_prep.create_labels(normalized_df, horizon)\n",
    "x.shape, y.shape"
   ]
  },
  {
   "cell_type": "code",
   "execution_count": 9,
   "metadata": {},
   "outputs": [
    {
     "data": {
      "text/plain": [
       "((3517, 100, 11), (3517, 100, 50))"
      ]
     },
     "execution_count": 9,
     "metadata": {},
     "output_type": "execute_result"
    }
   ],
   "source": [
    "# get overlapping subsequences of length subseq_len for features and labels\n",
    "x_seq, y_seq = data_prep.get_subsequences(x, subseq_len), data_prep.get_subsequences(y,subseq_len)\n",
    "x_seq.shape, y_seq.shape"
   ]
  },
  {
   "cell_type": "code",
   "execution_count": 10,
   "metadata": {},
   "outputs": [
    {
     "data": {
      "text/plain": [
       "(3517, 100, 61)"
      ]
     },
     "execution_count": 10,
     "metadata": {},
     "output_type": "execute_result"
    }
   ],
   "source": [
    "# shuffle, since the subsequences are considered indepedent and\n",
    "# we want to have our validation data randomly distributed over the whole time period\n",
    "c = np.concatenate((x_seq,y_seq), axis=2)\n",
    "#np.random.shuffle(c)\n",
    "c.shape"
   ]
  },
  {
   "cell_type": "code",
   "execution_count": 11,
   "metadata": {},
   "outputs": [
    {
     "data": {
      "text/plain": [
       "(((3166, 100, 11), (351, 100, 11)), ((3166, 100, 50), (351, 100, 50)))"
      ]
     },
     "execution_count": 11,
     "metadata": {},
     "output_type": "execute_result"
    }
   ],
   "source": [
    "# split data into training and validation data based on chosen validation_ratio \n",
    "train, valid = data_prep.split(c, validation_ratio)\n",
    "\n",
    "x_train, x_valid = train[:,:,:-horizon], valid[:,:,:-horizon]\n",
    "y_train, y_valid = train[:,:,-horizon:], valid[:,:,-horizon:]\n",
    "\n",
    "(x_train.shape, x_valid.shape), (y_train.shape, y_valid.shape)"
   ]
  },
  {
   "cell_type": "markdown",
   "metadata": {},
   "source": [
    "## 3. Creating Dataset"
   ]
  },
  {
   "cell_type": "code",
   "execution_count": 12,
   "metadata": {},
   "outputs": [],
   "source": [
    "tf.reset_default_graph()\n",
    "\n",
    "# create datasets\n",
    "train_dataset = tf.data.Dataset.from_tensor_slices((x_train, y_train))\n",
    "valid_dataset = tf.data.Dataset.from_tensor_slices((x_valid, y_valid))\n",
    "test_dataset = tf.data.Dataset.from_tensor_slices((test_data_sequences, fake_labels))\n",
    "\n",
    "# shuffle training and validation datasets\n",
    "train_dataset = train_dataset.shuffle(buffer_size=1000000)\n",
    "valid_dataset = valid_dataset.shuffle(buffer_size=1000000)\n",
    "\n",
    "# set batch sizes\n",
    "batch_size = 1\n",
    "train_dataset = train_dataset.batch(batch_size)\n",
    "valid_dataset = valid_dataset.batch(batch_size)\n",
    "test_dataset = test_dataset.batch(batch_size)\n",
    "\n",
    "# generate iterator and initializers for the datasets\n",
    "iterator = tf.data.Iterator.from_structure(train_dataset.output_types,train_dataset.output_shapes)\n",
    "training_init_op = iterator.make_initializer(train_dataset)\n",
    "valid_init_op = iterator.make_initializer(valid_dataset)\n",
    "test_init_op = iterator.make_initializer(test_dataset)\n",
    "\n",
    "next_batch = iterator.get_next()\n",
    "input_seq, labels = next_batch[0], next_batch[1]"
   ]
  },
  {
   "cell_type": "code",
   "execution_count": 13,
   "metadata": {},
   "outputs": [
    {
     "data": {
      "text/plain": [
       "<tf.Tensor 'IteratorGetNext:0' shape=(?, 100, 11) dtype=float32>"
      ]
     },
     "execution_count": 13,
     "metadata": {},
     "output_type": "execute_result"
    }
   ],
   "source": [
    "input_seq"
   ]
  },
  {
   "cell_type": "markdown",
   "metadata": {},
   "source": [
    "## 4. Computation Graph Definition"
   ]
  },
  {
   "cell_type": "code",
   "execution_count": 14,
   "metadata": {},
   "outputs": [],
   "source": [
    "input_size = 11\n",
    "lstm_size = 128\n",
    "output_size = horizon\n",
    "\n",
    "h_init = tf.placeholder(shape=[None,lstm_size], dtype=tf.float32)\n",
    "c_init = tf.placeholder(shape=[None,lstm_size], dtype=tf.float32)"
   ]
  },
  {
   "cell_type": "code",
   "execution_count": 15,
   "metadata": {},
   "outputs": [],
   "source": [
    "with tf.variable_scope(\"LSTM\", reuse=tf.AUTO_REUSE) as scope:\n",
    "    # Initialize list to save the hidden states and outputs of the sequence.\n",
    "    hs = []\n",
    "    \n",
    "    # Initialize all weights and biases.\n",
    "    initializer = tf.random_normal_initializer(stddev=0.125)\n",
    "    \n",
    "    # forget gate\n",
    "    Wxf = tf.get_variable(\"Wxf\", [input_size, lstm_size], initializer=initializer)\n",
    "    Whf = tf.get_variable(\"Whf\", [lstm_size, lstm_size], initializer=initializer)\n",
    "    bf = tf.get_variable(\"bf\", [lstm_size], initializer=initializer)\n",
    "    \n",
    "    # new candidate\n",
    "    Wxc = tf.get_variable(\"Wxc\", [input_size, lstm_size], initializer=initializer)\n",
    "    Whc = tf.get_variable(\"Whc\", [lstm_size, lstm_size], initializer=initializer)\n",
    "    bc = tf.get_variable(\"bc\", [lstm_size], initializer=initializer)\n",
    "    \n",
    "    # input gate\n",
    "    Wxi = tf.get_variable(\"Wxi\", [input_size, lstm_size], initializer=initializer)\n",
    "    Whi = tf.get_variable(\"Whi\", [lstm_size, lstm_size], initializer=initializer)\n",
    "    bi = tf.get_variable(\"bi\", [lstm_size], initializer=initializer)\n",
    "    \n",
    "    # output gate\n",
    "    Wxo = tf.get_variable(\"Wxo\", [input_size, lstm_size], initializer=initializer)\n",
    "    Who = tf.get_variable(\"Who\", [lstm_size, lstm_size], initializer=initializer)\n",
    "    bo = tf.get_variable(\"bo\", [lstm_size], initializer=initializer)\n",
    "        \n",
    "    # readout\n",
    "    Why = tf.get_variable(\"Why\", [lstm_size,output_size], initializer=initializer)\n",
    "    by = tf.get_variable(\"by\", [output_size], initializer=initializer)\n",
    "    \n",
    "    # Initialize the hidden and the cell state.\n",
    "    h_t = h_init\n",
    "    c_t = c_init\n",
    "\n",
    "\n",
    "    for t in range(subseq_len):\n",
    "\n",
    "        # Read out the ith input \n",
    "        x_t = input_seq[:, t]\n",
    "\n",
    "        # forget gate\n",
    "        f_t = tf.sigmoid(tf.matmul(x_t, Wxf) + tf.matmul(h_t, Whf) + bf)\n",
    "\n",
    "        # input gate\n",
    "        c_new_t = tf.sigmoid(tf.matmul(x_t, Wxc) + tf.matmul(h_t, Whc) + bc)\n",
    "        i_t = tf.sigmoid(tf.matmul(x_t, Wxi) + tf.matmul(h_t, Whi) + bi)\n",
    "\n",
    "        # update cell state\n",
    "        c_t = f_t * c_t + i_t * c_new_t\n",
    "\n",
    "        # output_gate\n",
    "        h_new_t = tf.sigmoid(c_t)\n",
    "        o_t = tf.sigmoid(tf.matmul(x_t, Wxo) + tf.matmul(h_t, Who) + bo)\n",
    "\n",
    "        # update hidden state\n",
    "        h_t = o_t * h_new_t\n",
    "\n",
    "\n",
    "\n",
    "\n",
    "        # save hidden state\n",
    "        hs.append(h_t)\n",
    "    \n",
    "    logits = []\n",
    "    \n",
    "    for h in hs:\n",
    "        \n",
    "        logits.append(tf.matmul(h, Why) + by)\n",
    "    \n",
    "    logits_tensor = logits[-1]"
   ]
  },
  {
   "cell_type": "markdown",
   "metadata": {},
   "source": [
    "## 5. Definition of Metrics and Training Config"
   ]
  },
  {
   "cell_type": "code",
   "execution_count": 16,
   "metadata": {},
   "outputs": [],
   "source": [
    "with tf.variable_scope(\"metrics\", reuse=tf.AUTO_REUSE) as scope:    \n",
    "    loss = tf.losses.mean_squared_error(predictions=logits, labels=labels)\n",
    "\n",
    "with tf.variable_scope(\"optimizer\", reuse=tf.AUTO_REUSE) as scope:\n",
    "    optimizer = tf.train.AdamOptimizer(learning_rate=0.1e-4)\n",
    "    training_step = optimizer.minimize(loss)"
   ]
  },
  {
   "cell_type": "code",
   "execution_count": 17,
   "metadata": {},
   "outputs": [],
   "source": [
    "tf.summary.scalar('loss', loss)\n",
    "merged_summaries = tf.summary.merge_all()\n",
    "train_writer = tf.summary.FileWriter(\"./summaries/train\", tf.get_default_graph())\n",
    "validation_writer = tf.summary.FileWriter(\"./summaries/validation\", tf.get_default_graph())\n"
   ]
  },
  {
   "cell_type": "markdown",
   "metadata": {},
   "source": [
    "## 6. Training, Validation, Prediction"
   ]
  },
  {
   "cell_type": "code",
   "execution_count": 18,
   "metadata": {},
   "outputs": [],
   "source": [
    "with tf.Session() as sess:\n",
    "    \n",
    "    sess.run(tf.global_variables_initializer())\n",
    "    \n",
    "    step = 0\n",
    "    \n",
    "    for epoch in range(10):\n",
    "    \n",
    "        \n",
    "        \n",
    "        # Load the dataset into the iterator.\n",
    "        sess.run(training_init_op)\n",
    "        \n",
    "        hs_feed_val = np.zeros([batch_size,lstm_size])\n",
    "        cs_feed_val = np.zeros([batch_size,lstm_size])\n",
    "                \n",
    "        # Go through the dataset until it's empty.\n",
    "        while True:\n",
    "            try:\n",
    "                               \n",
    "                hs_feed_val, cs_feed_val, summaries, _ = \\\n",
    "                                sess.run([h_t,c_t, merged_summaries, training_step], \n",
    "                                        feed_dict={h_init: hs_feed_val,\n",
    "                                                   c_init: cs_feed_val})\n",
    "                \n",
    "                train_writer.add_summary(summaries, global_step = step)\n",
    "\n",
    "                step += 1\n",
    "               \n",
    "\n",
    "            # Stop if iterator is empty.\n",
    "            except tf.errors.OutOfRangeError:\n",
    "                break\n",
    "          \n",
    "        \n",
    "        \n",
    "        # validation after each epoch random over whole period\n",
    "        sess.run(valid_init_op)\n",
    "        \n",
    "        hs_feed_val = np.zeros([batch_size,lstm_size])\n",
    "        cs_feed_val = np.zeros([batch_size,lstm_size])\n",
    "        \n",
    "        while True:\n",
    "            try:            \n",
    "                \n",
    "                hs_feed_val, cs_feed_val, summaries = \\\n",
    "                                sess.run([h_t,c_t, merged_summaries], \n",
    "                                        feed_dict={h_init: hs_feed_val,\n",
    "                                                   c_init: cs_feed_val})\n",
    "                \n",
    "                validation_writer.add_summary(summaries, global_step = step)\n",
    "                step += 1\n",
    "               \n",
    "\n",
    "            # Stop if iterator is empty.\n",
    "            except tf.errors.OutOfRangeError:\n",
    "                break\n",
    "\n",
    "    sess.run(test_init_op)\n",
    "    hs_feed_val = np.zeros([batch_size,lstm_size])\n",
    "    cs_feed_val = np.zeros([batch_size,lstm_size])\n",
    "    \n",
    "    predictions = []\n",
    "    while True:\n",
    "        try:            \n",
    "\n",
    "            hs_feed_val, cs_feed_val, logits = \\\n",
    "                            sess.run([h_t,c_t, logits_tensor], \n",
    "                                    feed_dict={h_init: hs_feed_val,\n",
    "                                               c_init: cs_feed_val})\n",
    "\n",
    "            predictions.append(logits)\n",
    "        # Stop if iterator is empty.\n",
    "        except tf.errors.OutOfRangeError:\n",
    "            break"
   ]
  },
  {
   "cell_type": "markdown",
   "metadata": {},
   "source": [
    "## 7. Evaluation and Visualization of predictions"
   ]
  },
  {
   "cell_type": "code",
   "execution_count": 25,
   "metadata": {},
   "outputs": [],
   "source": [
    "predictions = np.squeeze(np.asarray(predictions))\n",
    "pred_prices = [np.exp(price_scaler.inverse_transform([pred]))[0] for pred in predictions]\n",
    "pred_prices = [scipy.ndimage.filters.gaussian_filter1d(price, sigma=7) for price in pred_prices]\n",
    "dates = data_prep.get_subsequences(data.data_frame.index, n=subseq_len, overlapping=False, data_type=np.datetime64)[:,-1]\n",
    "pred_dates = [pd.date_range(start=date, periods=horizon+1, closed='right') for date in dates]\n",
    "pred_series = [pd.Series(prices, index=pred_date) for prices,pred_date in list(zip(pred_prices, pred_dates))]"
   ]
  },
  {
   "cell_type": "code",
   "execution_count": 26,
   "metadata": {
    "scrolled": true
   },
   "outputs": [
    {
     "data": {
      "image/png": "[encoded data removed]",
      "text/plain": [
       "<Figure size 432x288 with 1 Axes>"
      ]
     },
     "metadata": {
      "needs_background": "light"
     },
     "output_type": "display_data"
    }
   ],
   "source": [
    "plt.plot(data.data_frame['price'])\n",
    "for c, series in enumerate(pred_series):\n",
    "    #if c%3 == (predictions.shape[0]-1)%10:\n",
    "    plt.plot(series)\n",
    "    \n",
    "plt.show()"
   ]
  },
  {
   "cell_type": "markdown",
   "metadata": {},
   "source": [
    "with tf.variable_scope(\"LSTM\", reuse=tf.AUTO_REUSE) as scope:\n",
    "    # placeholder for batch\n",
    "    x = tf.placeholder(tf.float32, shape=(None, subseq_len, x_train.shape[-1]))\n",
    "    \n",
    "    lstm_sizes = [128,64]\n",
    "    \n",
    "    # Initialize weights and biases\n",
    "    initializer = tf.random_normal_initializer(stddev=0.125)\n",
    "    Why = tf.get_variable(\"Why\", [lstm_sizes[-1],horizon], initializer=initializer)\n",
    "    by = tf.get_variable(\"by\", [horizon], initializer=initializer)\n",
    "    \n",
    "    # RNN\n",
    "    rnn_cell = tf.nn.rnn_cell.MultiRNNCell([tf.nn.rnn_cell.LSTMCell(size) for size in lstm_sizes])\n",
    "    \n",
    "    output, state = tf.nn.dynamic_rnn(rnn_cell, x, dtype=tf.float32)\n",
    "    output = tf.squeeze(output)"
   ]
  }
 ],
 "metadata": {
  "kernelspec": {
   "display_name": "Python 3.6 (tfcourse)",
   "language": "python",
   "name": "tfcourse"
  },
  "language_info": {
   "codemirror_mode": {
    "name": "ipython",
    "version": 3
   },
   "file_extension": ".py",
   "mimetype": "text/x-python",
   "name": "python",
   "nbconvert_exporter": "python",
   "pygments_lexer": "ipython3",
   "version": "3.6.7"
  }
 },
 "nbformat": 4,
 "nbformat_minor": 2
}
