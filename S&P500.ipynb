{
 "cells": [
  {
   "cell_type": "code",
   "execution_count": 1,
   "metadata": {},
   "outputs": [],
   "source": [
    "import requests\n",
    "import json\n",
    "import re\n",
    "import pandas as pd\n",
    "import random\n",
    "import csv"
   ]
  },
  {
   "cell_type": "markdown",
   "metadata": {},
   "source": [
    "## getting list of S&P500 companies"
   ]
  },
  {
   "cell_type": "code",
   "execution_count": 2,
   "metadata": {},
   "outputs": [
    {
     "data": {
      "text/plain": [
       "['APTV', 'BRK-B', 'BF-B', 'EVRG', 'HLT', 'JEF', 'WM', 'WELL']"
      ]
     },
     "execution_count": 2,
     "metadata": {},
     "output_type": "execute_result"
    }
   ],
   "source": [
    "symbols_table = pd.read_html(\"https://en.wikipedia.org/wiki/List_of_S%26P_500_companies\",\n",
    "                             header=0)[0]\n",
    "symbols = list(symbols_table.loc[:, \"Symbol\"])\n",
    "\n",
    "exchange = 'NASDAQ'\n",
    "problem_symbols = []\n",
    "\n",
    "for sym in symbols:\n",
    "    url = 'https://ih.advfn.com/stock-market/{0}/{1}/financials?btn=istart_date&istart_date=1&mode=quarterly_reports'.format(exchange,sym)\n",
    "    response = requests.get(url)\n",
    "    html_content = str(response.content)\n",
    "\n",
    "    # report dates\n",
    "    report_dates_re = r\"Select start date for quarterly reports.*<select.*</select>\"\n",
    "    m = re.search(report_dates_re, html_content)\n",
    "    try:\n",
    "        report_dates = m.group(0)\n",
    "    except:\n",
    "        problem_symbols.append(sym)\n",
    "\n",
    "problem_symbols"
   ]
  },
  {
   "cell_type": "code",
   "execution_count": 3,
   "metadata": {},
   "outputs": [],
   "source": [
    "valid_symbols = list(set(symbols) - set(problem_symbols))"
   ]
  },
  {
   "cell_type": "code",
   "execution_count": 4,
   "metadata": {},
   "outputs": [],
   "source": [
    "with open(\"./datafiles/symbols.csv\", 'w') as file:\n",
    "    wr = csv.writer(file)\n",
    "    wr.writerow(valid_symbols)"
   ]
  },
  {
   "cell_type": "code",
   "execution_count": 5,
   "metadata": {},
   "outputs": [
    {
     "data": {
      "text/plain": [
       "497"
      ]
     },
     "execution_count": 5,
     "metadata": {},
     "output_type": "execute_result"
    }
   ],
   "source": [
    "len(valid_symbols)"
   ]
  },
  {
   "cell_type": "code",
   "execution_count": null,
   "metadata": {},
   "outputs": [],
   "source": []
  }
 ],
 "metadata": {
  "kernelspec": {
   "display_name": "Python 3.6 (tfcourse)",
   "language": "python",
   "name": "tfcourse"
  },
  "language_info": {
   "codemirror_mode": {
    "name": "ipython",
    "version": 3
   },
   "file_extension": ".py",
   "mimetype": "text/x-python",
   "name": "python",
   "nbconvert_exporter": "python",
   "pygments_lexer": "ipython3",
   "version": "3.6.7"
  }
 },
 "nbformat": 4,
 "nbformat_minor": 2
}
