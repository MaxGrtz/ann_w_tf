{
 "cells": [
  {
   "cell_type": "code",
   "execution_count": 1,
   "metadata": {},
   "outputs": [],
   "source": [
    "from Data import Data\n",
    "import dataset_prep_functions as data_prep\n",
    "import pandas as pd\n",
    "import numpy as np\n",
    "import scipy\n",
    "from sklearn.preprocessing import MinMaxScaler\n",
    "import tensorflow as tf\n",
    "import matplotlib.pyplot as plt"
   ]
  },
  {
   "cell_type": "markdown",
   "metadata": {},
   "source": [
    "## 1. Reading Data of Stock"
   ]
  },
  {
   "cell_type": "code",
   "execution_count": 2,
   "metadata": {
    "scrolled": true
   },
   "outputs": [
    {
     "name": "stdout",
     "output_type": "stream",
     "text": [
      "read unprocessed data\n"
     ]
    }
   ],
   "source": [
    "data = Data('MSFT', '2009-01-01')"
   ]
  },
  {
   "cell_type": "code",
   "execution_count": 3,
   "metadata": {
    "scrolled": false
   },
   "outputs": [
    {
     "data": {
      "text/html": [
       "<div>\n",
       "<style scoped>\n",
       "    .dataframe tbody tr th:only-of-type {\n",
       "        vertical-align: middle;\n",
       "    }\n",
       "\n",
       "    .dataframe tbody tr th {\n",
       "        vertical-align: top;\n",
       "    }\n",
       "\n",
       "    .dataframe thead th {\n",
       "        text-align: right;\n",
       "    }\n",
       "</style>\n",
       "<table border=\"1\" class=\"dataframe\">\n",
       "  <thead>\n",
       "    <tr style=\"text-align: right;\">\n",
       "      <th></th>\n",
       "      <th>price</th>\n",
       "      <th>volume</th>\n",
       "      <th>s&amp;p500</th>\n",
       "      <th>ebit</th>\n",
       "      <th>total current assets</th>\n",
       "      <th>total current liabilities</th>\n",
       "      <th>net cash from total operating activities</th>\n",
       "      <th>gdp [USA]</th>\n",
       "      <th>interest_rates [USA]</th>\n",
       "      <th>unemployment [USA]</th>\n",
       "      <th>inflation [USA]</th>\n",
       "    </tr>\n",
       "  </thead>\n",
       "  <tbody>\n",
       "    <tr>\n",
       "      <th>2009-01-02</th>\n",
       "      <td>15.87</td>\n",
       "      <td>50084000.00</td>\n",
       "      <td>931.80</td>\n",
       "      <td>5187.09</td>\n",
       "      <td>38580.15</td>\n",
       "      <td>23742.09</td>\n",
       "      <td>10868.20</td>\n",
       "      <td>14394.08</td>\n",
       "      <td>0.25</td>\n",
       "      <td>12085.10</td>\n",
       "      <td>-0.35</td>\n",
       "    </tr>\n",
       "    <tr>\n",
       "      <th>2009-01-03</th>\n",
       "      <td>15.92</td>\n",
       "      <td>53881066.67</td>\n",
       "      <td>930.35</td>\n",
       "      <td>5167.48</td>\n",
       "      <td>38617.11</td>\n",
       "      <td>23743.48</td>\n",
       "      <td>10942.81</td>\n",
       "      <td>14393.62</td>\n",
       "      <td>0.25</td>\n",
       "      <td>12112.19</td>\n",
       "      <td>-0.34</td>\n",
       "    </tr>\n",
       "    <tr>\n",
       "      <th>2009-01-04</th>\n",
       "      <td>15.96</td>\n",
       "      <td>57678133.33</td>\n",
       "      <td>928.90</td>\n",
       "      <td>5147.88</td>\n",
       "      <td>38654.07</td>\n",
       "      <td>23744.88</td>\n",
       "      <td>11017.43</td>\n",
       "      <td>14393.16</td>\n",
       "      <td>0.25</td>\n",
       "      <td>12139.29</td>\n",
       "      <td>-0.34</td>\n",
       "    </tr>\n",
       "  </tbody>\n",
       "</table>\n",
       "</div>"
      ],
      "text/plain": [
       "            price       volume  s&p500     ebit  total current assets  \\\n",
       "2009-01-02  15.87  50084000.00  931.80  5187.09              38580.15   \n",
       "2009-01-03  15.92  53881066.67  930.35  5167.48              38617.11   \n",
       "2009-01-04  15.96  57678133.33  928.90  5147.88              38654.07   \n",
       "\n",
       "            total current liabilities  \\\n",
       "2009-01-02                   23742.09   \n",
       "2009-01-03                   23743.48   \n",
       "2009-01-04                   23744.88   \n",
       "\n",
       "            net cash from total operating activities  gdp [USA]  \\\n",
       "2009-01-02                                  10868.20   14394.08   \n",
       "2009-01-03                                  10942.81   14393.62   \n",
       "2009-01-04                                  11017.43   14393.16   \n",
       "\n",
       "            interest_rates [USA]  unemployment [USA]  inflation [USA]  \n",
       "2009-01-02                  0.25            12085.10            -0.35  \n",
       "2009-01-03                  0.25            12112.19            -0.34  \n",
       "2009-01-04                  0.25            12139.29            -0.34  "
      ]
     },
     "execution_count": 3,
     "metadata": {},
     "output_type": "execute_result"
    }
   ],
   "source": [
    "data.data_frame.head(3)"
   ]
  },
  {
   "cell_type": "code",
   "execution_count": 4,
   "metadata": {
    "scrolled": false
   },
   "outputs": [
    {
     "data": {
      "text/plain": [
       "[<matplotlib.lines.Line2D at 0x12e56da90>]"
      ]
     },
     "execution_count": 4,
     "metadata": {},
     "output_type": "execute_result"
    },
    {
     "data": {
      "image/png": "[encoded data removed]",
      "text/plain": [
       "<Figure size 432x288 with 1 Axes>"
      ]
     },
     "metadata": {
      "needs_background": "light"
     },
     "output_type": "display_data"
    }
   ],
   "source": [
    "plt.plot(data.data_frame['price'])"
   ]
  },
  {
   "cell_type": "markdown",
   "metadata": {},
   "source": [
    "## 2. Prepairing Data"
   ]
  },
  {
   "cell_type": "code",
   "execution_count": 5,
   "metadata": {},
   "outputs": [],
   "source": [
    "# data configs\n",
    "SUBSEQ_LEN = 100  # length of sequences fed into rnn\n",
    "HORIZON = 50  # number of days predicted into future\n",
    "VALID_RATIO = 0.1 # percent of validation data\n",
    "BATCH_SIZE = 1"
   ]
  },
  {
   "cell_type": "code",
   "execution_count": 6,
   "metadata": {},
   "outputs": [],
   "source": [
    "normalized_df, price_scaler = data_prep.normalize(data.data_frame)"
   ]
  },
  {
   "cell_type": "code",
   "execution_count": 7,
   "metadata": {},
   "outputs": [
    {
     "data": {
      "text/plain": [
       "((36, 100, 11), (36, 100, 50))"
      ]
     },
     "execution_count": 7,
     "metadata": {},
     "output_type": "execute_result"
    }
   ],
   "source": [
    "# get non overlapping data sequences for later prediction test \n",
    "test_data_sequences = data_prep.get_subsequences(normalized_df.values, SUBSEQ_LEN, False)\n",
    "fake_labels = np.zeros((test_data_sequences.shape[0], test_data_sequences.shape[1], HORIZON), dtype=np.float32)\n",
    "test_data_sequences.shape, fake_labels.shape"
   ]
  },
  {
   "cell_type": "code",
   "execution_count": 8,
   "metadata": {},
   "outputs": [
    {
     "data": {
      "text/plain": [
       "((3631, 11), (3631, 50))"
      ]
     },
     "execution_count": 8,
     "metadata": {},
     "output_type": "execute_result"
    }
   ],
   "source": [
    "# split data into features x and labels y\n",
    "x, y = data_prep.create_labels(normalized_df, HORIZON)\n",
    "x.shape, y.shape"
   ]
  },
  {
   "cell_type": "code",
   "execution_count": 9,
   "metadata": {},
   "outputs": [
    {
     "data": {
      "text/plain": [
       "((3531, 100, 11), (3531, 100, 50))"
      ]
     },
     "execution_count": 9,
     "metadata": {},
     "output_type": "execute_result"
    }
   ],
   "source": [
    "# get overlapping subsequences of length SUBSEQ_LEN for features and labels\n",
    "x_seq, y_seq = data_prep.get_subsequences(x, SUBSEQ_LEN), data_prep.get_subsequences(y,SUBSEQ_LEN)\n",
    "x_seq.shape, y_seq.shape"
   ]
  },
  {
   "cell_type": "code",
   "execution_count": 10,
   "metadata": {},
   "outputs": [
    {
     "data": {
      "text/plain": [
       "(3531, 100, 61)"
      ]
     },
     "execution_count": 10,
     "metadata": {},
     "output_type": "execute_result"
    }
   ],
   "source": [
    "c = np.concatenate((x_seq,y_seq), axis=2)\n",
    "#np.random.shuffle(c)\n",
    "c.shape"
   ]
  },
  {
   "cell_type": "code",
   "execution_count": 11,
   "metadata": {
    "scrolled": true
   },
   "outputs": [
    {
     "data": {
      "text/plain": [
       "(((3178, 100, 11), (353, 100, 11)), ((3178, 100, 50), (353, 100, 50)))"
      ]
     },
     "execution_count": 11,
     "metadata": {},
     "output_type": "execute_result"
    }
   ],
   "source": [
    "# split data into training and validation data based on chosen validation_ratio \n",
    "train, valid = data_prep.split(c, VALID_RATIO)\n",
    "\n",
    "x_train, x_valid = train[:,:,:-HORIZON], valid[:,:,:-HORIZON]\n",
    "y_train, y_valid = train[:,:,-HORIZON:], valid[:,:,-HORIZON:]\n",
    "\n",
    "(x_train.shape, x_valid.shape), (y_train.shape, y_valid.shape)"
   ]
  },
  {
   "cell_type": "markdown",
   "metadata": {},
   "source": [
    "## 3. LSTM Configs"
   ]
  },
  {
   "cell_type": "code",
   "execution_count": 12,
   "metadata": {},
   "outputs": [],
   "source": [
    "tf.reset_default_graph()\n",
    "\n",
    "# lstm configs\n",
    "INPUT_SIZE = x.shape[1]\n",
    "OUTPUT_SIZE = y.shape[1]\n",
    "LSTM_SIZES = [128, 64]"
   ]
  },
  {
   "cell_type": "markdown",
   "metadata": {},
   "source": [
    "## 4. Computation Graph Definition"
   ]
  },
  {
   "cell_type": "code",
   "execution_count": 13,
   "metadata": {},
   "outputs": [],
   "source": [
    "# batch placeholder\n",
    "batchX = tf.placeholder(tf.float32, [BATCH_SIZE, SUBSEQ_LEN, INPUT_SIZE], name='batchX')\n",
    "batchY = tf.placeholder(tf.float32, [BATCH_SIZE, SUBSEQ_LEN, OUTPUT_SIZE], name='batchY')"
   ]
  },
  {
   "cell_type": "code",
   "execution_count": 14,
   "metadata": {},
   "outputs": [],
   "source": [
    "with tf.variable_scope(\"LSTM\", reuse=tf.AUTO_REUSE) as scope:\n",
    "    \n",
    "    # state placeholder \n",
    "    c_in = [tf.placeholder(tf.float32, [BATCH_SIZE, s], name='c_{}'.format(c)) for c,s in enumerate(LSTM_SIZES)]\n",
    "    h_in = [tf.placeholder(tf.float32, [BATCH_SIZE, s], name='h_{}'.format(c)) for c,s in enumerate(LSTM_SIZES)]\n",
    "    \n",
    "    # create LSTMCells\n",
    "    lstm_layers = [tf.nn.rnn_cell.LSTMCell(size, activation='sigmoid', forget_bias=1.0) for size in LSTM_SIZES]\n",
    "\n",
    "    # create a RNN cell composed sequentially of the created lstm cells\n",
    "    multi_rnn_cell = tf.nn.rnn_cell.MultiRNNCell(lstm_layers)\n",
    "\n",
    "    state = tuple(tf.nn.rnn_cell.LSTMStateTuple(c, h) for c, h in zip(c_in, h_in))\n",
    "    \n",
    "    # 'outputs' is a tensor of shape [BATCH_SIZE, SUBSEQ_LEN, size_last_lstm_cell]\n",
    "    # 'state' is a N-tuple where N is the number of LSTMCells containing a\n",
    "    # tf.contrib.rnn.LSTMStateTuple for each cell\n",
    "    outputs, final_state = tf.nn.dynamic_rnn(cell=multi_rnn_cell,\n",
    "                                       inputs=batchX,\n",
    "                                       initial_state=state,\n",
    "                                       dtype=tf.float32)\n",
    "    \n",
    "    rnn_output = tf.transpose(outputs, [1,0,2]) \n"
   ]
  },
  {
   "cell_type": "code",
   "execution_count": 15,
   "metadata": {},
   "outputs": [],
   "source": [
    "with tf.variable_scope(\"ReadOut\", reuse=tf.AUTO_REUSE) as scope:\n",
    "\n",
    "    # Initialize all weights and biases.\n",
    "    initializer = tf.random_normal_initializer(stddev=0.125)\n",
    "\n",
    "    # readout\n",
    "    Why = tf.get_variable(\"Why\", [LSTM_SIZES[-1], OUTPUT_SIZE], initializer=initializer)\n",
    "    by = tf.get_variable(\"by\", [OUTPUT_SIZE], initializer=initializer)\n",
    "\n",
    "    # logits calculation\n",
    "    logits = tf.map_fn(lambda x: tf.matmul(x, Why) + by, rnn_output)\n",
    "    logits = tf.transpose(logits, [1,0,2])"
   ]
  },
  {
   "cell_type": "markdown",
   "metadata": {},
   "source": [
    "## 5. Definition of Metrics and Training Config"
   ]
  },
  {
   "cell_type": "code",
   "execution_count": 16,
   "metadata": {},
   "outputs": [],
   "source": [
    "# define loss as mean squared error\n",
    "with tf.variable_scope(\"metrics\", reuse=tf.AUTO_REUSE) as scope:    \n",
    "    loss = tf.losses.mean_squared_error(predictions=logits, labels=batchY)\n",
    "\n",
    "# define optimizer \n",
    "with tf.variable_scope(\"optimizer\", reuse=tf.AUTO_REUSE) as scope:\n",
    "    optimizer = tf.train.AdamOptimizer(learning_rate=0.1e-4)\n",
    "    training_step = optimizer.minimize(loss)"
   ]
  },
  {
   "cell_type": "code",
   "execution_count": 17,
   "metadata": {},
   "outputs": [],
   "source": [
    "# tensorboard summary definition\n",
    "tf.summary.scalar('loss', loss)\n",
    "merged_summaries = tf.summary.merge_all()\n",
    "train_writer = tf.summary.FileWriter(\"./summaries/train\", tf.get_default_graph())\n",
    "validation_writer = tf.summary.FileWriter(\"./summaries/validation\", tf.get_default_graph())"
   ]
  },
  {
   "cell_type": "markdown",
   "metadata": {},
   "source": [
    "## 6. Training, Validation, Prediction"
   ]
  },
  {
   "cell_type": "code",
   "execution_count": 18,
   "metadata": {
    "scrolled": false
   },
   "outputs": [],
   "source": [
    "with tf.Session() as sess:\n",
    "    \n",
    "    sess.run(tf.global_variables_initializer())\n",
    "    \n",
    "    step = 0\n",
    "    \n",
    "    # helper for state initialization\n",
    "    c_init = tuple(np.zeros([BATCH_SIZE, size]) for size in LSTM_SIZES)\n",
    "    h_init = tuple(np.zeros([BATCH_SIZE, size]) for size in LSTM_SIZES)\n",
    "    \n",
    "    # get list of all placeholders\n",
    "    placeholders = [op.name + ':0' for op in tf.get_default_graph().get_operations() if op.type == \"Placeholder\"]\n",
    "\n",
    "    # prep validation data, splitting into batches\n",
    "    valid_batchesX = data_prep.get_subsequences(x_valid, BATCH_SIZE, False) \n",
    "    valid_batchesY = data_prep.get_subsequences(y_valid, BATCH_SIZE, False)\n",
    "    \n",
    "    # prep test data, splitting into batches\n",
    "    test_batchesX = data_prep.get_subsequences(test_data_sequences, BATCH_SIZE, False)\n",
    "    test_batchesY = data_prep.get_subsequences(fake_labels, BATCH_SIZE, False)\n",
    "    \n",
    "    for epoch in range(50):\n",
    "        \n",
    "        # initialize rnn state new each epoch        \n",
    "        current_state = tuple(tf.nn.rnn_cell.LSTMStateTuple(c, h) for c, h in zip(c_init, h_init))\n",
    "        \n",
    "        # shuffle training data before every epoch\n",
    "        training_data = np.concatenate((x_train, y_train), axis=2)\n",
    "        np.random.shuffle(training_data)\n",
    "        \n",
    "        # split data into batches\n",
    "        train_batchesX = data_prep.get_subsequences(training_data[:,:,:-HORIZON], BATCH_SIZE, False)\n",
    "        train_batchesY = data_prep.get_subsequences(training_data[:,:,-HORIZON:], BATCH_SIZE, False)\n",
    "\n",
    "        # go through the training data until it's empty\n",
    "        for new_batchX, new_batchY in zip(train_batchesX, train_batchesY):\n",
    "                \n",
    "                # feed value = batchX, batchY, cell state of every layer, hidden state of every layer\n",
    "                feed_values = [new_batchX, new_batchY] + \\\n",
    "                                [layer[0] for layer in current_state] + \\\n",
    "                                [layer[1] for layer in current_state]\n",
    "                \n",
    "                # create feed dictionary\n",
    "                feed_dict = {key: val for key, val in zip(placeholders, feed_values)}\n",
    "\n",
    "                _ , current_state, summaries, _ = \\\n",
    "                                sess.run([outputs, final_state, merged_summaries, training_step], \n",
    "                                        feed_dict=feed_dict)\n",
    "                \n",
    "                # write summary to tensorboard\n",
    "                train_writer.add_summary(summaries, global_step = step)\n",
    "\n",
    "                step += 1\n",
    "        \n",
    "        # start validation from zero initial state\n",
    "        current_state = tuple(tf.nn.rnn_cell.LSTMStateTuple(c, h) for c, h in zip(c_init, h_init))\n",
    "\n",
    "        # go through validation data after training one epoch\n",
    "        for new_batchX, new_batchY in zip(valid_batchesX, valid_batchesY):\n",
    "\n",
    "                # feed value = batchX, batchY, cell state of every layer, hidden state of every layer\n",
    "                feed_values = [new_batchX, new_batchY] + \\\n",
    "                                [layer[0] for layer in current_state] + \\\n",
    "                                [layer[1] for layer in current_state]\n",
    "\n",
    "                # create feed dictionary\n",
    "                feed_dict = {key: val for key, val in zip(placeholders, feed_values)}\n",
    "\n",
    "                current_state, summaries = \\\n",
    "                                sess.run([final_state, merged_summaries], \n",
    "                                        feed_dict=feed_dict)\n",
    "\n",
    "                # write summary to tensorboard\n",
    "                validation_writer.add_summary(summaries, global_step = step)\n",
    "\n",
    "                step += 1\n",
    "        \n",
    "    # after all epochs make a test run for predictions\n",
    "    predictions = []\n",
    "    # start validation from zero initial state\n",
    "    current_state = tuple(tf.nn.rnn_cell.LSTMStateTuple(c, h) for c, h in zip(c_init, h_init))\n",
    "\n",
    "    for new_batchX, new_batchY in zip(test_batchesX, test_batchesY):\n",
    "\n",
    "        # feed value = batchX, batchY, cell state of every layer, hidden state of every layer\n",
    "        feed_values = [new_batchX, new_batchY] + \\\n",
    "                        [layer[0] for layer in current_state] + \\\n",
    "                        [layer[1] for layer in current_state]\n",
    "\n",
    "        # create feed dictionary\n",
    "        feed_dict = {key: val for key, val in zip(placeholders, feed_values)}\n",
    "\n",
    "        output, current_state = sess.run([logits, final_state], feed_dict=feed_dict)\n",
    "\n",
    "        predictions.append(output[-1,-1])\n"
   ]
  },
  {
   "cell_type": "markdown",
   "metadata": {},
   "source": [
    "## 7. Evaluation and Visualization of Predictions"
   ]
  },
  {
   "cell_type": "code",
   "execution_count": 41,
   "metadata": {},
   "outputs": [],
   "source": [
    "predicted = np.squeeze(np.asarray(predictions))"
   ]
  },
  {
   "cell_type": "code",
   "execution_count": 42,
   "metadata": {},
   "outputs": [],
   "source": [
    "pred_prices = [np.exp(price_scaler.inverse_transform([pred]))[0] for pred in predicted]"
   ]
  },
  {
   "cell_type": "code",
   "execution_count": 43,
   "metadata": {},
   "outputs": [],
   "source": [
    "#pred_prices = [scipy.ndimage.filters.gaussian_filter1d(price, sigma=7) for price in pred_prices]\n",
    "dates = data_prep.get_subsequences(data.data_frame.index, n=SUBSEQ_LEN, overlapping=False, data_type=np.datetime64)[:,-1]\n",
    "pred_dates = [pd.date_range(start=date, periods=HORIZON+1, closed='right') for date in dates]"
   ]
  },
  {
   "cell_type": "code",
   "execution_count": 44,
   "metadata": {},
   "outputs": [],
   "source": [
    "pred_series = [pd.Series(prices, index=pred_date) for prices,pred_date in zip(pred_prices, pred_dates)]"
   ]
  },
  {
   "cell_type": "code",
   "execution_count": 57,
   "metadata": {
    "scrolled": false
   },
   "outputs": [
    {
     "data": {
      "image/png": "[encoded data removed]",
      "text/plain": [
       "<Figure size 1440x720 with 1 Axes>"
      ]
     },
     "metadata": {
      "needs_background": "light"
     },
     "output_type": "display_data"
    }
   ],
   "source": [
    "fig, ax = plt.subplots(1,1, figsize=(20,10))\n",
    "\n",
    "ax.plot(data.data_frame['price'])\n",
    "for c, series in enumerate(pred_series):\n",
    "    ax.plot(series, color='r')\n",
    "    \n",
    "plt.show()"
   ]
  },
  {
   "cell_type": "code",
   "execution_count": null,
   "metadata": {},
   "outputs": [],
   "source": []
  }
 ],
 "metadata": {
  "kernelspec": {
   "display_name": "Python 3.6 (tfcourse)",
   "language": "python",
   "name": "tfcourse"
  },
  "language_info": {
   "codemirror_mode": {
    "name": "ipython",
    "version": 3
   },
   "file_extension": ".py",
   "mimetype": "text/x-python",
   "name": "python",
   "nbconvert_exporter": "python",
   "pygments_lexer": "ipython3",
   "version": "3.6.7"
  }
 },
 "nbformat": 4,
 "nbformat_minor": 2
}
