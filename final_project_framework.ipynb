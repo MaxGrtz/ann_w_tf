{
 "cells": [
  {
   "cell_type": "markdown",
   "metadata": {},
   "source": [
    "## IMPORTS"
   ]
  },
  {
   "cell_type": "code",
   "execution_count": 107,
   "metadata": {},
   "outputs": [],
   "source": [
    "import numpy as np\n",
    "import pandas as pd\n",
    "import datetime\n",
    "import os\n",
    "import alpha_vantage\n",
    "import requests\n",
    "import json"
   ]
  },
  {
   "cell_type": "markdown",
   "metadata": {},
   "source": [
    "## CLASSES"
   ]
  },
  {
   "cell_type": "code",
   "execution_count": 108,
   "metadata": {},
   "outputs": [],
   "source": [
    "class Interface(object):\n",
    "    \n",
    "    def __init__(self, ann, dataDict):\n",
    "        '''\n",
    "        parameters:\n",
    "            ann - neural network model\n",
    "            dataDict - dict of data objects containing all prediction relevant data for every chosen stock \n",
    "        '''\n",
    "        self.ann = ann\n",
    "        self.data = dataDict\n",
    "        \n",
    "    \n",
    "    def run(self, stock):\n",
    "        '''\n",
    "        test-run the trained ANN on live data - visualize and print results.\n",
    "        parameters:\n",
    "            stock - string of the stocks ticker symbol\n",
    "        '''\n",
    "        dataVec = self.data[stock].getDataCurrent() # get data vector for current timestamp \n",
    "        pred = self.ann.predict(dataVec) # ann price prediction for next timestamp\n",
    "        self.data.updateData()  # update data to next (predicted) timestamp\n",
    "        obs = self.data[stock].getPrice()  # get price from new timestamp\n",
    "        self.ann.learn(dataVec, pred, obs)  # online learning for ANN\n",
    "        diff = np.abs(pred - obs)  # calc difference between prediction and observation\n",
    "        \n",
    "        # TODO: some visualization and evaluation of accuracy over time\n",
    "        \n",
    "        \n",
    "    def train(self):\n",
    "        '''\n",
    "        pre-train the neural network on historical data.       \n",
    "        '''\n",
    "        self.ann.train(self.data) # call train method on ANN object\n",
    " \n",
    "    def checkAccuracy(self, stock):\n",
    "        '''\n",
    "        check the accuracy of the neural network over random timespan.\n",
    "        parameters:\n",
    "            stock - stock on which to check accuracy\n",
    "        '''\n",
    "        # get random timespan\n",
    "        timespanStart = np.random.randint(self.data[stock].startTimestamp, self.data[stock].endTimestamp) \n",
    "        timespanEnd = np.random.randint(timespanStart, self.data[stock].endTimestamp) \n",
    "        \n",
    "        # test ANN on specific stock and random timespan\n",
    "        accuracy = self.ann.test(self.data[stock], timespanStart, timespanEnd) # call test method on ANN object\n",
    "        print(accuracy)\n",
    "        "
   ]
  },
  {
   "cell_type": "code",
   "execution_count": 109,
   "metadata": {},
   "outputs": [],
   "source": [
    "class ANN(object):\n",
    "    \n",
    "    def __init__(self, modelPath=None, weightPath=None):\n",
    "        #self.model = self.buildModel(modelPath, weightPath)\n",
    "        pass\n",
    "        \n",
    "    def buildModel(self, modelPath, weightPath):\n",
    "        '''\n",
    "        read safed model and weights or create new one if none exists.\n",
    "        parameters: \n",
    "            modelPath - path of the ann model\n",
    "            weightPath - path of the ann weights\n",
    "        '''\n",
    "        if os.path.exists(modelPath):\n",
    "            # read model\n",
    "            if os.path.exists(weightPath):\n",
    "                # read weights\n",
    "                pass\n",
    "        else:\n",
    "            # build new model\n",
    "            pass\n",
    "            \n",
    "        # compile and return model\n",
    "        pass        \n",
    "        \n",
    "    def predict(self, dataVec):\n",
    "        '''\n",
    "        use models predict method to predict price from data.\n",
    "        parameters:\n",
    "            dataVec - vector of current data\n",
    "        returns:\n",
    "            price - predicted price\n",
    "        '''\n",
    "        # return self.model.predict(dataVec)\n",
    "        pass\n",
    "    \n",
    "    def train(self, data):\n",
    "        '''\n",
    "        train model on historical data.\n",
    "        parameters: \n",
    "            data - dict of data of all stocks chosen \n",
    "        '''\n",
    "        # going through all stocks \n",
    "        # get predData for the stock - vector of all prices\n",
    "        # self.model.fit(data[stock], predData)\n",
    "        pass\n",
    "        \n",
    "    def learn(self, data, predPrice, obsPrice):\n",
    "        '''\n",
    "        online learning.\n",
    "        parameters: \n",
    "            data - current data used for prediction\n",
    "            predPrice - price predicted\n",
    "            obsPrice - price observed\n",
    "        '''\n",
    "        # self.model.fit(data, obs)\n",
    "        pass\n",
    "    \n",
    "    def test(self, data, start, end):\n",
    "        '''\n",
    "        check accuracy of the model on random timespan.\n",
    "        parameters: \n",
    "            data - historical data\n",
    "            start - start timestamp of random timespan\n",
    "            end - end timestamp of random timespan\n",
    "        returns:\n",
    "            accuracy - accuracy measure of predictions\n",
    "        '''\n",
    "        # predictions are price of (data + 1 timestep)\n",
    "        \n",
    "        # return accuracy\n",
    "        pass \n",
    "    \n",
    "    "
   ]
  },
  {
   "cell_type": "code",
   "execution_count": 110,
   "metadata": {},
   "outputs": [],
   "source": [
    "class economy(object):\n",
    "    '''object holding all relevant economic data as numerically encoded values (historical, current)'''\n",
    "    \n",
    "    def __init__(self, stock):\n",
    "        pass\n",
    "    \n",
    "    def update():\n",
    "        pass"
   ]
  },
  {
   "cell_type": "code",
   "execution_count": 111,
   "metadata": {},
   "outputs": [],
   "source": [
    "class finances(object):\n",
    "    '''object holding all relevant financial data as numerically encoded values (historical, current)'''\n",
    "    \n",
    "    def __init__(self, stock):\n",
    "        pass\n",
    "    \n",
    "    def update():\n",
    "        pass"
   ]
  },
  {
   "cell_type": "code",
   "execution_count": 112,
   "metadata": {},
   "outputs": [],
   "source": [
    "class priceData(object):\n",
    "    '''\n",
    "    object holding all relevant price data as numerically encoded values (historical, current).\n",
    "    https://www.alphavantage.co/documentation/ API used for price data (key: E8X1JONC18APVAQW).\n",
    "    '''\n",
    "\n",
    "    def __init__(self, stock):\n",
    "        self.stock = stock\n",
    "        self.update()\n",
    "    \n",
    "    def update(self):\n",
    "        API_URL = \"https://www.alphavantage.co/query\"\n",
    "\n",
    "        data = {\n",
    "            \"function\": \"TIME_SERIES_DAILY\",\n",
    "            \"symbol\": \"AAPL\",\n",
    "            \"outputsize\": \"full\",\n",
    "            \"datatype\": \"json\",\n",
    "            \"apikey\": \"E8X1JONC18APVAQW\"\n",
    "            }\n",
    "\n",
    "        response = requests.get(API_URL, data)\n",
    "        \n",
    "        data = response.json()\n",
    "        metaData = data.pop(\"Meta Data\", None)\n",
    "        \n",
    "        df = pd.DataFrame.from_dict(data, orient=\"columns\")\n",
    "        df = df[\"Time Series (Daily)\"].apply(pd.Series).apply(pd.to_numeric)\n",
    "        df['avg'] = (df[\"2. high\"] + df[\"3. low\"]) / 2\n",
    "        \n",
    "        self.prices = df['avg'].values"
   ]
  },
  {
   "cell_type": "code",
   "execution_count": 113,
   "metadata": {},
   "outputs": [],
   "source": [
    "class sentiment(object):\n",
    "    '''object holding all relevant sentiment data as numerically encoded values (historical, current)'''\n",
    "\n",
    "    def __init__(self, stock):\n",
    "        pass\n",
    "    \n",
    "    def update():\n",
    "        pass"
   ]
  },
  {
   "cell_type": "code",
   "execution_count": 114,
   "metadata": {},
   "outputs": [],
   "source": [
    "class Data(object):\n",
    "    '''data object holding all relevant data for prediction'''\n",
    "    def __init__(self, stock, timestepSize=3600, timestamp=datetime.datetime.today()):\n",
    "        self.stock = stock\n",
    "        self.timestepSize = timestepSize\n",
    "        self.timestamp = timestamp\n",
    "        self.economic = economy(stock)\n",
    "        self.financial = finances(stock)\n",
    "        self.priceData = priceData(stock)\n",
    "        self.sentiment = sentiment(stock)\n",
    "        # self.highlevelData - eg management, competition, banch etc \n",
    "        \n",
    "    def getDataCurrent(self):\n",
    "        '''loop over all subobject and their attributes and save the values in a vector.'''\n",
    "        pass\n",
    "    \n",
    "    def getDataHistory(self):\n",
    "        '''loop over all subobject and their attributes and save the values for every timestep in a matrix.'''\n",
    "        pass\n",
    "    \n",
    "    def updateData(self):\n",
    "        '''update data.'''\n",
    "        self.timestampUpdate()\n",
    "        self.economic.update()\n",
    "        self.financial.update()\n",
    "        self.priceData.update()\n",
    "        self.sentiment.update()\n",
    "    \n",
    "    def getPrice(self, timestamp):\n",
    "        '''\n",
    "        returns price of stock in dollar.\n",
    "        parameters:\n",
    "            timestamp - timestamp for which to get the price (default is current timestamp)\n",
    "        '''\n",
    "        self.priceData.price(timestamp)\n",
    "        return price \n",
    "    \n",
    "    def timestampUpdate(self):\n",
    "        self.timestamp += self.timestepSize"
   ]
  },
  {
   "cell_type": "markdown",
   "metadata": {},
   "source": [
    "### Run code (MAIN METHOD)"
   ]
  },
  {
   "cell_type": "code",
   "execution_count": 115,
   "metadata": {},
   "outputs": [],
   "source": [
    "stock = \"AAPL\"\n",
    "ann = ANN()\n",
    "data = Data(stock)\n",
    "interface = Interface(ann, data)\n"
   ]
  },
  {
   "cell_type": "code",
   "execution_count": 116,
   "metadata": {},
   "outputs": [
    {
     "data": {
      "text/plain": [
       "array([ 14.875,  15.875,  17.375, ..., 219.385, 219.065, 216.43 ])"
      ]
     },
     "execution_count": 116,
     "metadata": {},
     "output_type": "execute_result"
    }
   ],
   "source": [
    "data.priceData.prices"
   ]
  },
  {
   "cell_type": "code",
   "execution_count": 79,
   "metadata": {},
   "outputs": [],
   "source": []
  },
  {
   "cell_type": "code",
   "execution_count": 85,
   "metadata": {},
   "outputs": [],
   "source": []
  },
  {
   "cell_type": "code",
   "execution_count": null,
   "metadata": {},
   "outputs": [],
   "source": []
  },
  {
   "cell_type": "code",
   "execution_count": null,
   "metadata": {},
   "outputs": [],
   "source": []
  }
 ],
 "metadata": {
  "kernelspec": {
   "display_name": "Python 3.6 (tfcourse)",
   "language": "python",
   "name": "tfcourse"
  },
  "language_info": {
   "codemirror_mode": {
    "name": "ipython",
    "version": 3
   },
   "file_extension": ".py",
   "mimetype": "text/x-python",
   "name": "python",
   "nbconvert_exporter": "python",
   "pygments_lexer": "ipython3",
   "version": "3.6.6"
  }
 },
 "nbformat": 4,
 "nbformat_minor": 2
}
